{
  "cells": [
    {
      "source": [
        "# Group line numbers from GTFS by quays (CHB)\n",
        "Goal is to show lines per stop (quaycode), to avoid using an API for this in the [Haltebuddy](https://haltebuddy.focustest.nl/landingpage) prototype."
      ],
      "cell_type": "markdown",
      "metadata": {
        "execution": {
          "shell.execute_reply": "2021-03-29T09:54:44.277Z",
          "iopub.status.busy": "2021-03-29T09:54:44.243Z",
          "iopub.execute_input": "2021-03-29T09:54:44.252Z",
          "iopub.status.idle": "2021-03-29T09:54:44.268Z"
        }
      }
    },
    {
      "cell_type": "code",
      "source": [
        "import pandas as pd\n",
        "import zipfile"
      ],
      "outputs": [],
      "execution_count": 1,
      "metadata": {
        "execution": {
          "iopub.status.busy": "2021-03-29T09:54:45.167Z",
          "iopub.execute_input": "2021-03-29T09:54:45.175Z",
          "iopub.status.idle": "2021-03-29T09:54:45.797Z",
          "shell.execute_reply": "2021-03-29T09:54:45.807Z"
        }
      }
    },
    {
      "cell_type": "code",
      "source": [
        "# CHB downloaded and converted from http://data.ndovloket.nl/haltes/\n",
        "# You can use https://next.observablehq.com/@jurb/haltebestand-ndov-loket-xml-export-naar-csv to generate and download an up to date version\n",
        "quays = pd.read_csv('chb/quays.csv')"
      ],
      "outputs": [],
      "execution_count": 2,
      "metadata": {
        "execution": {
          "iopub.status.busy": "2021-03-29T09:54:47.498Z",
          "iopub.execute_input": "2021-03-29T09:54:47.504Z",
          "iopub.status.idle": "2021-03-29T09:54:47.513Z",
          "shell.execute_reply": "2021-03-29T09:54:47.520Z"
        }
      }
    },
    {
      "cell_type": "code",
      "execution_count": 3,
      "metadata": {},
      "outputs": [],
      "source": [
        "# GTFS downloaded from https://transitfeeds.com/p/ov/814/latest\n",
        "# Omitted from this repo, get the current version of the zip and put it in this directory\n",
        "zf = zipfile.ZipFile('gtfs.zip') "
      ]
    },
    {
      "cell_type": "code",
      "source": [
        "routes = pd.read_csv(zf.open('routes.txt'))\n",
        "stop_times = pd.read_csv(zf.open('stop_times.txt'))\n",
        "stops = pd.read_csv(zf.open('stops.txt'))\n",
        "trips = pd.read_csv(zf.open('trips.txt'))"
      ],
      "outputs": [],
      "execution_count": 4,
      "metadata": {
        "execution": {
          "iopub.status.busy": "2021-03-29T09:56:28.027Z",
          "iopub.execute_input": "2021-03-29T09:56:28.032Z",
          "iopub.status.idle": "2021-03-29T09:56:43.334Z",
          "shell.execute_reply": "2021-03-29T09:56:43.340Z"
        }
      }
    },
    {
      "cell_type": "code",
      "source": [],
      "outputs": [
        {
          "output_type": "execute_result",
          "data": {
            "text/plain": [
              "      route_id agency_id route_short_name  \\\n",
              "0        75937       ARR                2   \n",
              "1        74020       RET              574   \n",
              "2        74018       RET              526   \n",
              "3        73358     BRENG               78   \n",
              "4        67306     BRENG              352   \n",
              "...        ...       ...              ...   \n",
              "2425     62989       ARR             6381   \n",
              "2426     62990       ARR             6371   \n",
              "2427     62991       ARR             7133   \n",
              "2428     62992       ARR             7152   \n",
              "2429     62993       ARR             7153   \n",
              "\n",
              "                                     route_long_name  route_desc  route_type  \\\n",
              "0     Brunssum/Hoensbroek via Heerlen - Bleijerheide         NaN           3   \n",
              "1                             STOPenGO Lansingerland         NaN           3   \n",
              "2                                 STOPenGO Maassluis         NaN           3   \n",
              "3                          Papendal - Beekdal Lyceum         NaN           3   \n",
              "4                     Wageningen Station - Arnhem CS         NaN           3   \n",
              "...                                              ...         ...         ...   \n",
              "2425                   Nijetrijne - Wolvega, Station         NaN           3   \n",
              "2426                    Nijelamer - Wolvega, Station         NaN           3   \n",
              "2427                              Jislum - Oentsjerk         NaN           3   \n",
              "2428                    Burdaard - Dokkum, Sionsberg         NaN           3   \n",
              "2429                            Burdaard - Oentsjerk         NaN           3   \n",
              "\n",
              "     route_color route_text_color  \\\n",
              "0            NaN              NaN   \n",
              "1            NaN              NaN   \n",
              "2            NaN              NaN   \n",
              "3            NaN              NaN   \n",
              "4            NaN              NaN   \n",
              "...          ...              ...   \n",
              "2425         NaN              NaN   \n",
              "2426         NaN              NaN   \n",
              "2427         NaN              NaN   \n",
              "2428         NaN              NaN   \n",
              "2429         NaN              NaN   \n",
              "\n",
              "                                            route_url  \n",
              "0                                                 NaN  \n",
              "1                                                 NaN  \n",
              "2                                                 NaN  \n",
              "3     http://www.breng.nl/dienstregeling/lijn?ID=A078  \n",
              "4     http://www.breng.nl/dienstregeling/lijn?ID=A352  \n",
              "...                                               ...  \n",
              "2425                                              NaN  \n",
              "2426                                              NaN  \n",
              "2427                                              NaN  \n",
              "2428                                              NaN  \n",
              "2429                                              NaN  \n",
              "\n",
              "[2430 rows x 9 columns]"
            ],
            "text/html": "<div>\n<style scoped>\n    .dataframe tbody tr th:only-of-type {\n        vertical-align: middle;\n    }\n\n    .dataframe tbody tr th {\n        vertical-align: top;\n    }\n\n    .dataframe thead th {\n        text-align: right;\n    }\n</style>\n<table border=\"1\" class=\"dataframe\">\n  <thead>\n    <tr style=\"text-align: right;\">\n      <th></th>\n      <th>route_id</th>\n      <th>agency_id</th>\n      <th>route_short_name</th>\n      <th>route_long_name</th>\n      <th>route_desc</th>\n      <th>route_type</th>\n      <th>route_color</th>\n      <th>route_text_color</th>\n      <th>route_url</th>\n    </tr>\n  </thead>\n  <tbody>\n    <tr>\n      <th>0</th>\n      <td>75937</td>\n      <td>ARR</td>\n      <td>2</td>\n      <td>Brunssum/Hoensbroek via Heerlen - Bleijerheide</td>\n      <td>NaN</td>\n      <td>3</td>\n      <td>NaN</td>\n      <td>NaN</td>\n      <td>NaN</td>\n    </tr>\n    <tr>\n      <th>1</th>\n      <td>74020</td>\n      <td>RET</td>\n      <td>574</td>\n      <td>STOPenGO Lansingerland</td>\n      <td>NaN</td>\n      <td>3</td>\n      <td>NaN</td>\n      <td>NaN</td>\n      <td>NaN</td>\n    </tr>\n    <tr>\n      <th>2</th>\n      <td>74018</td>\n      <td>RET</td>\n      <td>526</td>\n      <td>STOPenGO Maassluis</td>\n      <td>NaN</td>\n      <td>3</td>\n      <td>NaN</td>\n      <td>NaN</td>\n      <td>NaN</td>\n    </tr>\n    <tr>\n      <th>3</th>\n      <td>73358</td>\n      <td>BRENG</td>\n      <td>78</td>\n      <td>Papendal - Beekdal Lyceum</td>\n      <td>NaN</td>\n      <td>3</td>\n      <td>NaN</td>\n      <td>NaN</td>\n      <td>http://www.breng.nl/dienstregeling/lijn?ID=A078</td>\n    </tr>\n    <tr>\n      <th>4</th>\n      <td>67306</td>\n      <td>BRENG</td>\n      <td>352</td>\n      <td>Wageningen Station - Arnhem CS</td>\n      <td>NaN</td>\n      <td>3</td>\n      <td>NaN</td>\n      <td>NaN</td>\n      <td>http://www.breng.nl/dienstregeling/lijn?ID=A352</td>\n    </tr>\n    <tr>\n      <th>...</th>\n      <td>...</td>\n      <td>...</td>\n      <td>...</td>\n      <td>...</td>\n      <td>...</td>\n      <td>...</td>\n      <td>...</td>\n      <td>...</td>\n      <td>...</td>\n    </tr>\n    <tr>\n      <th>2425</th>\n      <td>62989</td>\n      <td>ARR</td>\n      <td>6381</td>\n      <td>Nijetrijne - Wolvega, Station</td>\n      <td>NaN</td>\n      <td>3</td>\n      <td>NaN</td>\n      <td>NaN</td>\n      <td>NaN</td>\n    </tr>\n    <tr>\n      <th>2426</th>\n      <td>62990</td>\n      <td>ARR</td>\n      <td>6371</td>\n      <td>Nijelamer - Wolvega, Station</td>\n      <td>NaN</td>\n      <td>3</td>\n      <td>NaN</td>\n      <td>NaN</td>\n      <td>NaN</td>\n    </tr>\n    <tr>\n      <th>2427</th>\n      <td>62991</td>\n      <td>ARR</td>\n      <td>7133</td>\n      <td>Jislum - Oentsjerk</td>\n      <td>NaN</td>\n      <td>3</td>\n      <td>NaN</td>\n      <td>NaN</td>\n      <td>NaN</td>\n    </tr>\n    <tr>\n      <th>2428</th>\n      <td>62992</td>\n      <td>ARR</td>\n      <td>7152</td>\n      <td>Burdaard - Dokkum, Sionsberg</td>\n      <td>NaN</td>\n      <td>3</td>\n      <td>NaN</td>\n      <td>NaN</td>\n      <td>NaN</td>\n    </tr>\n    <tr>\n      <th>2429</th>\n      <td>62993</td>\n      <td>ARR</td>\n      <td>7153</td>\n      <td>Burdaard - Oentsjerk</td>\n      <td>NaN</td>\n      <td>3</td>\n      <td>NaN</td>\n      <td>NaN</td>\n      <td>NaN</td>\n    </tr>\n  </tbody>\n</table>\n<p>2430 rows × 9 columns</p>\n</div>"
          },
          "metadata": {},
          "execution_count": 4
        }
      ],
      "execution_count": 4,
      "metadata": {}
    },
    {
      "cell_type": "code",
      "source": [
        "# De meeste quays van de GVB beginnen met 'NL:Q:300'. De stop_code in de GTFS bestanden voor deze quays is het getal dat na 'NL:Q:300' komt. Voor de quaycodes die niet met deze string beginnen, is het getal na 'NL:Q:' de stop_code.\n",
        "\n",
        "def construct_stop_code(quaycode):\n",
        "    if quaycode[0:8] == 'NL:Q:300':\n",
        "        return quaycode[8:13]\n",
        "    else:\n",
        "        return quaycode[5:13]\n",
        "\n",
        "quays['stop_code'] = quays['quaycode'].apply(lambda x: construct_stop_code(x))"
      ],
      "outputs": [],
      "execution_count": 5,
      "metadata": {
        "execution": {
          "iopub.status.busy": "2021-03-29T09:56:43.500Z",
          "iopub.execute_input": "2021-03-29T09:56:43.505Z",
          "iopub.status.idle": "2021-03-29T09:56:43.516Z",
          "shell.execute_reply": "2021-03-29T09:56:43.525Z"
        }
      }
    },
    {
      "cell_type": "code",
      "source": [
        "# merge quays met de gtfs stops informatie (quays en stops betekent hetzelfde, maar quays komt hier can CHB en stops van de GTFS set. Ik weet niet waarom we met meer quays overblijven na de left merge op quays :)\n",
        "quays_stop_codes = quays.query('quaystatus == \"available\"').merge(stops, how=\"left\", on=\"stop_code\")\n",
        "print(quays.query('quaystatus == \"available\"').shape)\n",
        "print(quays_stop_codes.shape)"
      ],
      "outputs": [
        {
          "output_type": "stream",
          "name": "stdout",
          "text": [
            "(1478, 34)\n(1488, 44)\n"
          ]
        }
      ],
      "execution_count": 6,
      "metadata": {
        "execution": {
          "iopub.status.busy": "2021-03-29T09:56:50.275Z",
          "iopub.execute_input": "2021-03-29T09:56:50.283Z",
          "iopub.status.idle": "2021-03-29T09:56:50.396Z",
          "shell.execute_reply": "2021-03-29T09:56:50.407Z"
        }
      }
    },
    {
      "cell_type": "code",
      "source": [
        "# Maak een selectie van het grote stop_times bestand door alleen te selecteren op wat we in de quay set hebben.\n",
        "stop_times_filtered_on_quays = stop_times[stop_times.stop_id.isin(quays_stop_codes.stop_id.dropna())]"
      ],
      "outputs": [],
      "execution_count": 7,
      "metadata": {
        "execution": {
          "iopub.status.busy": "2021-03-29T09:57:06.815Z",
          "iopub.execute_input": "2021-03-29T09:57:06.822Z",
          "iopub.status.idle": "2021-03-29T09:57:08.898Z",
          "shell.execute_reply": "2021-03-29T09:57:08.906Z"
        }
      }
    },
    {
      "cell_type": "code",
      "source": [
        "# 273 stop_id's zijn NaN, die moeten er uit. Om te mergen moeten we ook nog een type forcen\n",
        "print(quays_stop_codes.stop_id.isnull().sum())\n",
        "quays_stop_codes = quays_stop_codes.dropna(subset=['stop_id'])\n",
        "quays_stop_codes.stop_id = quays_stop_codes.stop_id.astype(int)\n",
        "print(quays_stop_codes.stop_id.isnull().sum())"
      ],
      "outputs": [
        {
          "output_type": "stream",
          "name": "stdout",
          "text": [
            "273\n0\n"
          ]
        }
      ],
      "execution_count": 8,
      "metadata": {
        "execution": {
          "iopub.status.busy": "2021-03-29T09:57:12.041Z",
          "iopub.execute_input": "2021-03-29T09:57:12.048Z",
          "iopub.status.idle": "2021-03-29T09:57:12.063Z",
          "shell.execute_reply": "2021-03-29T09:57:12.079Z"
        }
      }
    },
    {
      "cell_type": "code",
      "source": [
        "stop_times_with_quays = stop_times_filtered_on_quays.merge(quays_stop_codes, on=\"stop_id\")"
      ],
      "outputs": [],
      "execution_count": 9,
      "metadata": {
        "execution": {
          "iopub.status.busy": "2021-03-29T09:57:15.579Z",
          "iopub.execute_input": "2021-03-29T09:57:15.589Z",
          "iopub.status.idle": "2021-03-29T09:57:16.966Z",
          "shell.execute_reply": "2021-03-29T09:57:16.972Z"
        }
      }
    },
    {
      "cell_type": "code",
      "source": [
        "alles = stop_times_with_quays.merge(trips, on=\"trip_id\").merge(routes, on=\"route_id\")"
      ],
      "outputs": [],
      "execution_count": 10,
      "metadata": {
        "execution": {
          "iopub.status.busy": "2021-03-29T09:57:18.576Z",
          "iopub.execute_input": "2021-03-29T09:57:18.583Z",
          "shell.execute_reply": "2021-03-29T09:57:19.863Z",
          "iopub.status.idle": "2021-03-29T09:57:19.870Z"
        }
      }
    },
    {
      "cell_type": "code",
      "source": [
        "# Al met al hebben we voor 1205 van de 1478 quays matchende lijnen gevonden. Dit kan best logisch te verklaren zijn, nog even uitzoeken.\n",
        "\n",
        "result = alles.groupby(['quaycode']).apply(lambda x: list(dict.fromkeys(x['route_short_name'].to_list()))).reset_index(name = \"route_short_name\")\n",
        "result"
      ],
      "outputs": [
        {
          "output_type": "execute_result",
          "data": {
            "text/plain": [
              "           quaycode route_short_name\n",
              "0     NL:Q:30000001     [40, 41, 22]\n",
              "1     NL:Q:30000005     [3, 245, 37]\n",
              "2     NL:Q:30000006     [40, 41, 22]\n",
              "3     NL:Q:30000007          [3, 37]\n",
              "4     NL:Q:30000008   [3, 37, 41, 1]\n",
              "...             ...              ...\n",
              "1200  NL:Q:57320060            [382]\n",
              "1201  NL:Q:57320070            [382]\n",
              "1202  NL:Q:57352120            [120]\n",
              "1203  NL:Q:57352130            [120]\n",
              "1204  NL:Q:57352140            [120]\n",
              "\n",
              "[1205 rows x 2 columns]"
            ],
            "text/html": "<div>\n<style scoped>\n    .dataframe tbody tr th:only-of-type {\n        vertical-align: middle;\n    }\n\n    .dataframe tbody tr th {\n        vertical-align: top;\n    }\n\n    .dataframe thead th {\n        text-align: right;\n    }\n</style>\n<table border=\"1\" class=\"dataframe\">\n  <thead>\n    <tr style=\"text-align: right;\">\n      <th></th>\n      <th>quaycode</th>\n      <th>route_short_name</th>\n    </tr>\n  </thead>\n  <tbody>\n    <tr>\n      <th>0</th>\n      <td>NL:Q:30000001</td>\n      <td>[40, 41, 22]</td>\n    </tr>\n    <tr>\n      <th>1</th>\n      <td>NL:Q:30000005</td>\n      <td>[3, 245, 37]</td>\n    </tr>\n    <tr>\n      <th>2</th>\n      <td>NL:Q:30000006</td>\n      <td>[40, 41, 22]</td>\n    </tr>\n    <tr>\n      <th>3</th>\n      <td>NL:Q:30000007</td>\n      <td>[3, 37]</td>\n    </tr>\n    <tr>\n      <th>4</th>\n      <td>NL:Q:30000008</td>\n      <td>[3, 37, 41, 1]</td>\n    </tr>\n    <tr>\n      <th>...</th>\n      <td>...</td>\n      <td>...</td>\n    </tr>\n    <tr>\n      <th>1200</th>\n      <td>NL:Q:57320060</td>\n      <td>[382]</td>\n    </tr>\n    <tr>\n      <th>1201</th>\n      <td>NL:Q:57320070</td>\n      <td>[382]</td>\n    </tr>\n    <tr>\n      <th>1202</th>\n      <td>NL:Q:57352120</td>\n      <td>[120]</td>\n    </tr>\n    <tr>\n      <th>1203</th>\n      <td>NL:Q:57352130</td>\n      <td>[120]</td>\n    </tr>\n    <tr>\n      <th>1204</th>\n      <td>NL:Q:57352140</td>\n      <td>[120]</td>\n    </tr>\n  </tbody>\n</table>\n<p>1205 rows × 2 columns</p>\n</div>"
          },
          "metadata": {},
          "execution_count": 11
        }
      ],
      "execution_count": 11,
      "metadata": {
        "execution": {
          "iopub.status.busy": "2021-03-29T09:57:26.980Z",
          "iopub.execute_input": "2021-03-29T09:57:26.986Z",
          "iopub.status.idle": "2021-03-29T09:57:29.083Z",
          "shell.execute_reply": "2021-03-29T09:57:29.096Z"
        }
      }
    },
    {
      "cell_type": "code",
      "source": [
        "# result.to_json('quay_route_names.json', orient=\"records\")"
      ],
      "outputs": [],
      "execution_count": 12,
      "metadata": {
        "execution": {
          "iopub.status.busy": "2021-03-29T09:57:40.021Z",
          "iopub.execute_input": "2021-03-29T09:57:40.026Z",
          "iopub.status.idle": "2021-03-29T09:57:40.035Z",
          "shell.execute_reply": "2021-03-29T09:57:40.042Z"
        }
      }
    },
    {
      "cell_type": "code",
      "source": [
        "result.set_index('quaycode').to_json('quay_route_names.json')"
      ],
      "outputs": [],
      "execution_count": 13,
      "metadata": {
        "execution": {
          "iopub.status.busy": "2021-03-29T09:57:40.478Z",
          "iopub.execute_input": "2021-03-29T09:57:40.483Z",
          "iopub.status.idle": "2021-03-29T09:57:40.492Z",
          "shell.execute_reply": "2021-03-29T09:57:40.498Z"
        }
      }
    },
    {
      "cell_type": "code",
      "source": [],
      "outputs": [],
      "execution_count": null,
      "metadata": {}
    }
  ],
  "metadata": {
    "language_info": {
      "name": "python",
      "version": "3.7.3-final",
      "mimetype": "text/x-python",
      "codemirror_mode": {
        "name": "ipython",
        "version": 3
      },
      "pygments_lexer": "ipython3",
      "nbconvert_exporter": "python",
      "file_extension": ".py"
    },
    "orig_nbformat": 2,
    "kernelspec": {
      "name": "python3",
      "display_name": "Python 3",
      "language": "python"
    },
    "nteract": {
      "version": "0.27.0"
    }
  },
  "nbformat": 4,
  "nbformat_minor": 2
}